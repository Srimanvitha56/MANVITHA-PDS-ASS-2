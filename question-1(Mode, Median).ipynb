{
  "nbformat": 4,
  "nbformat_minor": 0,
  "metadata": {
    "colab": {
      "provenance": []
    },
    "kernelspec": {
      "name": "python3",
      "display_name": "Python 3"
    },
    "language_info": {
      "name": "python"
    }
  },
  "cells": [
    {
      "cell_type": "code",
      "execution_count": 40,
      "metadata": {
        "colab": {
          "base_uri": "https://localhost:8080/"
        },
        "id": "N-Hl5Q9i0OXa",
        "outputId": "92d299b9-0628-4f9a-a2f3-2c7854c75111"
      },
      "outputs": [
        {
          "output_type": "stream",
          "name": "stdout",
          "text": [
            "Unnamed: 0           0\n",
            "Name                 0\n",
            "Location             0\n",
            "Year                 0\n",
            "Kilometers_Driven    0\n",
            "Fuel_Type            0\n",
            "Transmission         0\n",
            "Owner_Type           0\n",
            "Mileage              0\n",
            "Engine               0\n",
            "Power                0\n",
            "Seats                0\n",
            "New_Price            0\n",
            "Price                0\n",
            "dtype: int64\n"
          ]
        }
      ],
      "source": [
        "import pandas as pd\n",
        "import re\n",
        "url = \"/content/train.csv\"\n",
        "input=pd.read_csv(url)\n",
        "for column in input.columns:\n",
        "    if pd.api.types.is_numeric_dtype(input[column]):\n",
        "        input[column].fillna(input[column].median(), inplace=True)\n",
        "    else:\n",
        "        input[column].fillna(input[column].mode()[0], inplace=True)\n",
        "\n",
        "\n",
        "print(input.isnull().sum())\n"
      ]
    },
    {
      "cell_type": "code",
      "source": [],
      "metadata": {
        "id": "F599O5HRzGjp"
      },
      "execution_count": 10,
      "outputs": []
    }
  ]
}