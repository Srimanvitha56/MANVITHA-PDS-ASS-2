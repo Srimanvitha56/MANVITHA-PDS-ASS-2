{
  "nbformat": 4,
  "nbformat_minor": 0,
  "metadata": {
    "colab": {
      "provenance": []
    },
    "kernelspec": {
      "name": "python3",
      "display_name": "Python 3"
    },
    "language_info": {
      "name": "python"
    }
  },
  "cells": [
    {
      "cell_type": "code",
      "execution_count": 25,
      "metadata": {
        "colab": {
          "base_uri": "https://localhost:8080/"
        },
        "id": "N-Hl5Q9i0OXa",
        "outputId": "ca81954e-9e98-45ea-d76c-a592bca56dcc"
      },
      "outputs": [
        {
          "output_type": "stream",
          "name": "stdout",
          "text": [
            "Unnamed: 0                  int64\n",
            "Name                       object\n",
            "Location                   object\n",
            "Year                        int64\n",
            "Kilometers_Driven           int64\n",
            "Owner_Type                 object\n",
            "Mileage                    object\n",
            "Engine                     object\n",
            "Power                      object\n",
            "Seats                     float64\n",
            "New_Price                  object\n",
            "Price                     float64\n",
            "Fuel_Type_Diesel            uint8\n",
            "Fuel_Type_Electric          uint8\n",
            "Fuel_Type_Petrol            uint8\n",
            "Transmission_Automatic      uint8\n",
            "Transmission_Manual         uint8\n",
            "dtype: object\n"
          ]
        }
      ],
      "source": [
        "import pandas as pd\n",
        "import re\n",
        "url = \"/content/train.csv\"\n",
        "input=pd.read_csv(url)\n",
        "input = pd.get_dummies(input, columns=['Fuel_Type', 'Transmission'])\n",
        "print(input.dtypes)\n"
      ]
    },
    {
      "cell_type": "code",
      "source": [],
      "metadata": {
        "id": "F599O5HRzGjp"
      },
      "execution_count": 10,
      "outputs": []
    }
  ]
}